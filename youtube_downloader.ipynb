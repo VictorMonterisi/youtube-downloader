{
  "nbformat": 4,
  "nbformat_minor": 0,
  "metadata": {
    "colab": {
      "provenance": []
    },
    "kernelspec": {
      "name": "python3",
      "display_name": "Python 3"
    },
    "language_info": {
      "name": "python"
    }
  },
  "cells": [
    {
      "cell_type": "markdown",
      "source": [
        "With Pytube"
      ],
      "metadata": {
        "id": "RreTxe4rkrWv"
      }
    },
    {
      "cell_type": "code",
      "execution_count": null,
      "metadata": {
        "id": "5qKQvqzCGtSJ"
      },
      "outputs": [],
      "source": [
        "pip install pytube"
      ]
    },
    {
      "cell_type": "code",
      "source": [
        "#First Version\n",
        "\n",
        "from pytube import YouTube\n",
        "\n",
        "# Video's URL\n",
        "url = 'https://www.youtube.com/watch?v=video_code'\n",
        "\n",
        "# Create a YouTube object\n",
        "yt = YouTube(url, use_oauth=True, allow_oauth_cache=True)\n",
        "\n",
        "# Set the best quality avaliable\n",
        "video_stream = yt.streams.get_highest_resolution()\n",
        "\n",
        "# Download to current directory\n",
        "video_stream.download()\n",
        "\n",
        "print('Download completed!')"
      ],
      "metadata": {
        "id": "ewYZSon-Gw4a"
      },
      "execution_count": null,
      "outputs": []
    },
    {
      "cell_type": "code",
      "source": [
        "# Second Version\n",
        "\n",
        "from pytube import YouTube\n",
        "\n",
        "url = 'https://www.youtube.com/watch?v=video_code'\n",
        "\n",
        "yt = YouTube(url)\n",
        "\n",
        "# Try to bypass age restriction\n",
        "yt.bypass_age_gate()\n",
        "\n",
        "video_stream = yt.streams.filter(progressive=True, file_extension=\"mp4\").order_by(\"resolution\").desc().first()\n",
        "\n",
        "video_stream.download()\n",
        "\n",
        "print('Download completed!')"
      ],
      "metadata": {
        "id": "b4kuVw86ke_x"
      },
      "execution_count": null,
      "outputs": []
    },
    {
      "cell_type": "markdown",
      "source": [
        "With Youtube DL"
      ],
      "metadata": {
        "id": "7ul5Noo_kziX"
      }
    },
    {
      "cell_type": "code",
      "source": [
        "pip install youtube_dl"
      ],
      "metadata": {
        "id": "YkfJb9EklCaA"
      },
      "execution_count": null,
      "outputs": []
    },
    {
      "cell_type": "code",
      "source": [
        "import youtube_dl\n",
        "\n",
        "url = 'https://www.youtube.com/watch?v=video_code'\n",
        "\n",
        "ydl_opts = {}\n",
        "\n",
        "with youtube_dl.YoutubeDL(ydl_opts) as ydl:\n",
        "    ydl.download([url])\n"
      ],
      "metadata": {
        "id": "qUh6JdBIk7L6"
      },
      "execution_count": null,
      "outputs": []
    },
    {
      "cell_type": "markdown",
      "source": [
        "With YT DPL"
      ],
      "metadata": {
        "id": "id9TqmUhm7gY"
      }
    },
    {
      "cell_type": "code",
      "source": [
        "pip install yt_dlp"
      ],
      "metadata": {
        "id": "MKHi6KosnCV7"
      },
      "execution_count": null,
      "outputs": []
    },
    {
      "cell_type": "code",
      "source": [
        "import yt_dlp\n",
        "\n",
        "url = 'https://www.youtube.com/watch?v=video_code'\n",
        "\n",
        "ydl_opts = {}\n",
        "\n",
        "with yt_dlp.YoutubeDL(ydl_opts) as ydl:\n",
        "    ydl.download([url])"
      ],
      "metadata": {
        "id": "D6JyWQm_nG5q"
      },
      "execution_count": null,
      "outputs": []
    }
  ]
}
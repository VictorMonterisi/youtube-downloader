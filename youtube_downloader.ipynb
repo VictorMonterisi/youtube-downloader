{
  "nbformat": 4,
  "nbformat_minor": 0,
  "metadata": {
    "colab": {
      "provenance": [],
      "authorship_tag": "ABX9TyMInhVL79Pc4jIBfWTxKNzt",
      "include_colab_link": true
    },
    "kernelspec": {
      "name": "python3",
      "display_name": "Python 3"
    },
    "language_info": {
      "name": "python"
    }
  },
  "cells": [
    {
      "cell_type": "markdown",
      "metadata": {
        "id": "view-in-github",
        "colab_type": "text"
      },
      "source": [
        "<a href=\"https://colab.research.google.com/github/VictorMonterisi/youtube-downloader/blob/main/youtube_downloader.ipynb\" target=\"_parent\"><img src=\"https://colab.research.google.com/assets/colab-badge.svg\" alt=\"Open In Colab\"/></a>"
      ]
    },
    {
      "cell_type": "code",
      "execution_count": null,
      "metadata": {
        "id": "5qKQvqzCGtSJ"
      },
      "outputs": [],
      "source": [
        "pip install pytube"
      ]
    },
    {
      "cell_type": "code",
      "source": [
        "from pytube import YouTube\n",
        "\n",
        "# URL do vídeo que será baixado\n",
        "url = 'https://www.youtube.com/%%video_desejado%%'\n",
        "\n",
        "# Cria um objeto YouTube\n",
        "yt = YouTube(url)\n",
        "\n",
        "# Seleciona a melhor qualidade disponível\n",
        "video_stream = yt.streams.get_highest_resolution()\n",
        "\n",
        "# Faz download do vídeo no diretório atual\n",
        "video_stream.download()\n",
        "\n",
        "print('Download concluído!')"
      ],
      "metadata": {
        "id": "ewYZSon-Gw4a"
      },
      "execution_count": null,
      "outputs": []
    }
  ]
}